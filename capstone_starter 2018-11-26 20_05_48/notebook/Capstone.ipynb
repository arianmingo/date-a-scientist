{
 "cells": [
  {
   "cell_type": "markdown",
   "metadata": {},
   "source": [
    "In recent years, there has been a massive rise in the usage of dating apps to find love. Many of these apps use sophisticated data science techniques to recommend possible matches to users and to optimize the user experience. These apps give us access to a wealth of information that we've never had before about how different people experience romance.\n",
    "\n",
    "\n",
    "In this capstone, you will analyze some data from OKCupid, an app that focuses on using multiple choice and short answers to match users.\n",
    "\n",
    "\n",
    "The dataset provided has the following columns of multiple-choice data:\n",
    "\n",
    "- body_type\n",
    "- diet\n",
    "- drinks\n",
    "- drugs\n",
    "- education\n",
    "- ethnicity\n",
    "- height\n",
    "- income\n",
    "- job\n",
    "- offspring\n",
    "- orientation\n",
    "- pets\n",
    "- religion\n",
    "- sex\n",
    "- sign\n",
    "- smokes\n",
    "- speaks\n",
    "- status\n",
    "\n",
    "And a set of open short-answer responses to :\n",
    "\n",
    "- essay0 - My self summary\n",
    "- essay1 - What I’m doing with my life\n",
    "- essay2 - I’m really good at\n",
    "- essay3 - The first thing people usually notice about me\n",
    "- essay4 - Favorite books, movies, show, music, and food\n",
    "- essay5 - The six things I could never do without\n",
    "- essay6 - I spend a lot of time thinking about\n",
    "- essay7 - On a typical Friday night I am\n",
    "- essay8 - The most private thing I am willing to admit\n",
    "- essay9 - You should message me if…\n",
    "\n",
    "\n",
    "### Introduction\n",
    "\n",
    "\n",
    "In this capstone, you will create a presentation about your findings in this OkCupid dataset.\n",
    "\n",
    "\n",
    "The purpose of this capstone is to practice formulating questions and implementing Machine Learning techniques to answer those questions. We will give you guidance about the kinds of questions we asked, and the kinds of methods we used to answer those questions. But the questions you ask and how you answer them are entirely up to you. We're excited to see what kinds of different things you explore.\n",
    "Compared to the other projects you have completed this far, we are requiring few restrictions on how you structure your code. The project is far more open-ended, and you should use your creativity. In addition, much of the code you write for later parts of this project will depend on how you decided to implement earlier parts. **Therefore, we strongly encourage you to read through the entire assignment before writing any code.**\n",
    "________________\n",
    "\n",
    "\n",
    "### Load in the DataFrame\n",
    "\n",
    "\n",
    "The data is stored in **profiles.csv**. We can start to work with it in **dating.py** by using Pandas, which we have imported for you with the line:\n",
    "\n",
    "\n",
    "```\n",
    "import pandas as pd\n",
    "```\n",
    "\n",
    "\n",
    "and then loading the csv into a DataFrame: \n",
    "\n",
    "\n",
    "```\n",
    "df = pd.read_csv(\"profiles.csv\")\n",
    "```\n",
    "\n",
    "\n",
    "### Explore the Data\n",
    "\n",
    "\n",
    "Let's make sure we understand what these columns represent!\n",
    "\n",
    "Pick some columns and call `.head()` on them to see the first five rows of data. For example, we were curious about `job`, so we called:\n",
    "\n",
    "\n",
    "```\n",
    "df.job.head()\n",
    "```\n",
    "\n",
    "\n",
    "You can also call `value_counts()` on a column to figure out what possible responses there are, and how many of each response there was.\n",
    "\n",
    "\n",
    "### Visualize some of the Data\n",
    "\n",
    "\n",
    "We can start to build graphs from the data by first importing Matplotlib:\n",
    "\n",
    "\n",
    "```\n",
    "from matplotlib import pyplot as plt\n",
    "```\n",
    "\n",
    "\n",
    "and then making some plots!\n",
    "\n",
    "For example, we were curious about the distribution of ages on the site, so we made a histogram of the `age` column:\n",
    "\n",
    "\n",
    "```\n",
    "plt.hist(df.age, bins=20)\n",
    "plt.xlabel(\"Age\")\n",
    "plt.ylabel(\"Frequency\")\n",
    "plt.xlim(16, 80)\n",
    "plt.show()\n",
    "```\n",
    "\n",
    "\n",
    "Try this code in your own file and take a look at the histogram it produces!\n",
    "\n",
    "\n",
    "### Formulate a Question\n",
    "\n",
    "\n",
    "As we started to look at this data, we started to get more and more curious about Zodiac signs. First, we looked at all of the possible values for Zodiac signs:\n",
    "\n",
    "\n",
    "```\n",
    "df.sign.value_counts()\n",
    "```\n",
    "\n",
    "\n",
    "We started to wonder if there was a way to predict a user's Zodiac sign from the information in their profile. Thinking about the columns we had already explored, we thought that maybe we could classify Zodiac signs using drinking, smoking, drugs, and essays as our features.\n",
    "\n",
    "\n",
    "\n",
    "\n",
    "### Augment your Data\n",
    "\n",
    "\n",
    "In order to answer the question you've formulated, you will probably need to create some new columns in the DataFrame. This is especially true because so much of our data here is categorical (i.e. `diet` consists of the options `vegan`, `vegetarian`, `anything`, etc. instead of numerical values).\n",
    "\n",
    "\n",
    "Categorical data is great to use as labels, but we want to create some numerical data as well to use for features.\n",
    "\n",
    "\n",
    "For our question about Zodiac signs, we wanted to transform the `drinks` column into numerical data. We used:\n",
    "\n",
    "\n",
    "```\n",
    "drink_mapping = {\"not at all\": 0, \"rarely\": 1, \"socially\": 2, \"often\": 3, \"very often\": 4, \"desperately\": 5}\n",
    "\n",
    "\n",
    "all_data[\"drinks_code\"] = all_data.drinks.map(drink_mapping)\n",
    "```\n",
    "\n",
    "\n",
    "These lines of code created a new column called 'drinks_code' that mapped the following `drinks` values to these numbers:\n",
    "\n",
    "\n",
    "| drinks      | drinks_code |\n",
    "|-------------|-------------|\n",
    "| not at all  | 0           |\n",
    "| rarely      | 1           |\n",
    "| socially    | 2           |\n",
    "| often       | 3           |\n",
    "| very often  | 4           |\n",
    "| desperately | 5           |\n",
    "\n",
    "\n",
    "We did the same for `smokes` and `drugs`.\n",
    "\n",
    "\n",
    "We also wanted some numerical data about the short answer essays. We combined them all into one string, took out the `NaN`s, and then created a new column called `essay_len`:\n",
    "\n",
    "\n",
    "```\n",
    "essay_cols = [\"essay0\",\"essay1\",\"essay2\",\"essay3\",\"essay4\",\"essay5\",\"essay6\",\"essay7\",\"essay8\",\"essay9\"]\n",
    "\n",
    "\n",
    "# Removing the NaNs\n",
    "all_essays = all_data[essay_cols].replace(np.nan, '', regex=True)\n",
    "# Combining the essays\n",
    "all_essays = all_essays[essay_cols].apply(lambda x: ' '.join(x), axis=1)\n",
    "\n",
    "\n",
    "all_data[\"essay_len\"] = all_essays.apply(lambda x: len(x)))\n",
    "```\n",
    "\n",
    "\n",
    "We also created a column with average word length and a column with the frequency of the words \"I\" or \"me\" appearing in the essays.\n",
    "\n",
    "\n",
    "### Normalize your Data!\n",
    "\n",
    "\n",
    "In order to get accurate results, we should make sure our numerical data all has the same weight.\n",
    "\n",
    "\n",
    "For our Zodiac features, we used:\n",
    "\n",
    "\n",
    "```\n",
    "feature_data = all_data[['smokes_code', 'drinks_code', 'drugs_code', 'essay_len', 'avg_word_length']]\n",
    "\n",
    "\n",
    "x = feature_data.values\n",
    "min_max_scaler = preprocessing.MinMaxScaler()\n",
    "x_scaled = min_max_scaler.fit_transform(x)\n",
    "\n",
    "\n",
    "feature_data = pd.DataFrame(x_scaled, columns=feature_data.columns)\n",
    "```\n",
    "\n",
    "\n",
    "### Use Classification Techniques\n",
    "\n",
    "\n",
    "We have learned how to perform classification in a few different ways.\n",
    "\n",
    "\n",
    "- We learned about K-Nearest Neighbors by exploring IMDB ratings of popular movies \n",
    "- We learned about Support Vector Machines by exploring baseball statistics\n",
    "- We learned about Naive Bayes by exploring Amazon Reviews\n",
    "\n",
    "\n",
    "Some questions we used classification to tackle were:\n",
    "\n",
    "\n",
    "- Can we predict sex with education level and income??\n",
    "- Can we predict education level with essay text word counts?\n",
    "\n",
    "\n",
    "### Use Regression Techniques\n",
    "\n",
    "\n",
    "We have learned how to perform Multiple Linear Regression by playing with StreetEasy apartment data. Is there a way we can apply the techniques we learned to this dataset?\n",
    "\n",
    "\n",
    "Some questions we used regression to tackle were:\n",
    "\n",
    "\n",
    "- Predict income with length of essays and average word length?\n",
    "- Predict age with the frequency of \"I\" or \"me\" in essays?\n",
    "\n",
    "\n",
    "We also learned about K-Nearest Neighbors Regression. Which form of regression works better to answer your question?\n",
    "\n",
    "\n",
    "### Analyze the Accuracy, Precision and Recall\n",
    "\n",
    "\n",
    "After you have trained your model and run it, you will probably be curious about how well it did.\n",
    "\n",
    "\n",
    "Find the accuracy, precision, and recall of each model you used, and create graphs showing how they changed.\n",
    "\n",
    "\n",
    "For our question of classifying Zodiac signs, one graph we produced showed classification accuracy versus `k` (for K-Nearest Neighbors):\n",
    "![accuracy vs k](https://s3.amazonaws.com/codecademy-content/programs/machine-learning/capstone/Zodiac_Accuracy.png)\n",
    "\n",
    "\n",
    "The accuracy we would expect from predicting a Zodiac sign by randomly selecting one would be 1/12, or 0.0833. Our model did not significantly outperform this number. We were unimpressed.\n",
    "\n",
    "\n",
    "### Create your Presentation\n",
    "\n",
    "\n",
    "We want to see:\n",
    "\n",
    "\n",
    "- at least two graphs containing exploration of the dataset\n",
    "- a statement of your question (or questions!) and how you arrived there \n",
    "- the explanation of at least two new columns you created and how you did it\n",
    "- the comparison between two classification approaches, including a qualitative discussion of simplicity, time to run the model, and accuracy, precision, and/or recall\n",
    "- the comparison between two regression approaches, including a qualitative discussion of simplicity, time to run the model, and accuracy, precision, and/or recall\n",
    "- an overall conclusion, with a preliminary answer to your initial question(s), next steps, and what other data you would like to have in order to better answer your question(s)\n",
    "\n",
    "\n",
    "Good luck!"
   ]
  },
  {
   "cell_type": "markdown",
   "metadata": {},
   "source": [
    "<h1>Imports</h1>"
   ]
  },
  {
   "cell_type": "code",
   "execution_count": 103,
   "metadata": {},
   "outputs": [],
   "source": [
    "import pandas as pd\n",
    "import numpy as np\n",
    "from matplotlib import pyplot as plt\n",
    "import requests as req\n",
    "import json\n",
    "from sklearn.model_selection import train_test_split\n",
    "from sklearn.feature_extraction.text import CountVectorizer\n",
    "from sklearn.naive_bayes import MultinomialNB\n",
    "from sklearn import metrics, linear_model\n",
    "from sklearn.model_selection import train_test_split\n",
    "from sklearn.feature_extraction.text import CountVectorizer\n",
    "from sklearn.naive_bayes import MultinomialNB\n",
    "from sklearn.metrics import accuracy_score"
   ]
  },
  {
   "cell_type": "markdown",
   "metadata": {},
   "source": [
    "<h1>Check dataset</h1>"
   ]
  },
  {
   "cell_type": "code",
   "execution_count": 2,
   "metadata": {},
   "outputs": [
    {
     "name": "stdout",
     "output_type": "stream",
     "text": [
      "<class 'pandas.core.frame.DataFrame'>\n",
      "RangeIndex: 59946 entries, 0 to 59945\n",
      "Data columns (total 31 columns):\n",
      "age            59946 non-null int64\n",
      "body_type      54650 non-null object\n",
      "diet           35551 non-null object\n",
      "drinks         56961 non-null object\n",
      "drugs          45866 non-null object\n",
      "education      53318 non-null object\n",
      "essay0         54458 non-null object\n",
      "essay1         52374 non-null object\n",
      "essay2         50308 non-null object\n",
      "essay3         48470 non-null object\n",
      "essay4         49409 non-null object\n",
      "essay5         49096 non-null object\n",
      "essay6         46175 non-null object\n",
      "essay7         47495 non-null object\n",
      "essay8         40721 non-null object\n",
      "essay9         47343 non-null object\n",
      "ethnicity      54266 non-null object\n",
      "height         59943 non-null float64\n",
      "income         59946 non-null int64\n",
      "job            51748 non-null object\n",
      "last_online    59946 non-null object\n",
      "location       59946 non-null object\n",
      "offspring      24385 non-null object\n",
      "orientation    59946 non-null object\n",
      "pets           40025 non-null object\n",
      "religion       39720 non-null object\n",
      "sex            59946 non-null object\n",
      "sign           48890 non-null object\n",
      "smokes         54434 non-null object\n",
      "speaks         59896 non-null object\n",
      "status         59946 non-null object\n",
      "dtypes: float64(1), int64(2), object(28)\n",
      "memory usage: 14.2+ MB\n"
     ]
    }
   ],
   "source": [
    "profiles = pd.read_csv(\"profiles.csv\")\n",
    "profiles.info()"
   ]
  },
  {
   "cell_type": "code",
   "execution_count": 3,
   "metadata": {},
   "outputs": [
    {
     "data": {
      "image/png": "[encoded data removed]",
      "text/plain": [
       "<Figure size 432x288 with 1 Axes>"
      ]
     },
     "metadata": {
      "needs_background": "light"
     },
     "output_type": "display_data"
    }
   ],
   "source": [
    "plt.hist(profiles.age, bins=20)\n",
    "plt.xlabel(\"Age\")\n",
    "plt.ylabel(\"Frequency\")\n",
    "plt.xlim(16, 80)\n",
    "plt.show()"
   ]
  },
  {
   "cell_type": "code",
   "execution_count": 4,
   "metadata": {},
   "outputs": [],
   "source": [
    "#profiles.body_type.value_counts()"
   ]
  },
  {
   "cell_type": "code",
   "execution_count": 5,
   "metadata": {},
   "outputs": [],
   "source": [
    "#profiles.diet.value_counts()"
   ]
  },
  {
   "cell_type": "code",
   "execution_count": 6,
   "metadata": {},
   "outputs": [],
   "source": [
    "#profiles.education.value_counts()"
   ]
  },
  {
   "cell_type": "code",
   "execution_count": 7,
   "metadata": {},
   "outputs": [],
   "source": [
    "#profiles.ethnicity.value_counts()"
   ]
  },
  {
   "cell_type": "code",
   "execution_count": 8,
   "metadata": {},
   "outputs": [],
   "source": [
    "#profiles.height.value_counts()"
   ]
  },
  {
   "cell_type": "code",
   "execution_count": 9,
   "metadata": {},
   "outputs": [],
   "source": [
    "#profiles.income.value_counts()"
   ]
  },
  {
   "cell_type": "code",
   "execution_count": 10,
   "metadata": {},
   "outputs": [],
   "source": [
    "#profiles.job.value_counts()"
   ]
  },
  {
   "cell_type": "code",
   "execution_count": 11,
   "metadata": {},
   "outputs": [],
   "source": [
    "#profiles.offspring.value_counts()"
   ]
  },
  {
   "cell_type": "code",
   "execution_count": 12,
   "metadata": {},
   "outputs": [],
   "source": [
    "#profiles.orientation.value_counts()"
   ]
  },
  {
   "cell_type": "code",
   "execution_count": 13,
   "metadata": {},
   "outputs": [],
   "source": [
    "#profiles.pets.value_counts()"
   ]
  },
  {
   "cell_type": "code",
   "execution_count": 14,
   "metadata": {},
   "outputs": [],
   "source": [
    "#profiles.religion.value_counts()"
   ]
  },
  {
   "cell_type": "code",
   "execution_count": 15,
   "metadata": {},
   "outputs": [],
   "source": [
    "#profiles.sex.value_counts()"
   ]
  },
  {
   "cell_type": "code",
   "execution_count": 16,
   "metadata": {},
   "outputs": [],
   "source": [
    "#profiles.speaks.value_counts()"
   ]
  },
  {
   "cell_type": "code",
   "execution_count": 17,
   "metadata": {},
   "outputs": [],
   "source": [
    "profiles.drugs.value_counts()\n",
    "drugs_mapping={\n",
    "    np.nan: -1,\n",
    "    'never':0,\n",
    "    'sometimes':1,\n",
    "    'often':2\n",
    "}\n",
    "profiles['drugscode']=profiles.drugs.map(drugs_mapping)"
   ]
  },
  {
   "cell_type": "code",
   "execution_count": 18,
   "metadata": {
    "scrolled": false
   },
   "outputs": [
    {
     "data": {
      "image/png": "[encoded data removed]",
      "text/plain": [
       "<Figure size 432x288 with 1 Axes>"
      ]
     },
     "metadata": {
      "needs_background": "light"
     },
     "output_type": "display_data"
    },
    {
     "data": {
      "image/png": "[encoded data removed]",
      "text/plain": [
       "<Figure size 432x288 with 1 Axes>"
      ]
     },
     "metadata": {
      "needs_background": "light"
     },
     "output_type": "display_data"
    }
   ],
   "source": [
    "import re\n",
    "\n",
    "profiles.sign.value_counts()\n",
    "profiles.sign.head()\n",
    "sign = profiles.sign.apply(lambda x: str(x).split(' ')[0])\n",
    "\n",
    "profiles.sign=profiles.sign.replace(np.nan, '', regex=True)\n",
    "\n",
    "sign_mapping={\n",
    "    'aquarius':1,\n",
    "    'pisces':2,\n",
    "    'aries':3,\n",
    "    'taurus':4,\n",
    "    'gemini':5,\n",
    "    'cancer':6,\n",
    "    'leo':7,\n",
    "    'virgo':8,\n",
    "    'libra':9,\n",
    "    'scorpio':10,\n",
    "    'sagittarius':11,\n",
    "    'capricorn':12\n",
    "}\n",
    "\n",
    "profiles['signcode']=sign.map(sign_mapping)\n",
    "\n",
    "#0: not interested in Zodiac signs\n",
    "#1: just gave the value\n",
    "#2: its fun to think about\n",
    "#3: it matters a lot\n",
    "regex_fun = re.compile('.*?fun to think about.*?')\n",
    "regex_not = re.compile('.*?but it doesn.*?')\n",
    "regex_lot = re.compile('.*?matters a lot.*?')\n",
    "\n",
    "def get_weight(x):\n",
    "    if regex_fun.match(x) is not None:\n",
    "        return 2\n",
    "    elif regex_lot.match(x) is not None:\n",
    "        return 3\n",
    "    elif regex_not.match(x) is not None:\n",
    "        return 0\n",
    "    else:\n",
    "        return 1\n",
    "\n",
    "signcode_w=[]\n",
    "for i in profiles['sign']:\n",
    "    signcode_w.append(get_weight(i))\n",
    "    \n",
    "profiles['signcode_w']=signcode_w\n",
    "\n",
    "\n",
    "#profiles.signcode_w.value_counts()\n",
    "\n",
    "plt.rcParams[\"patch.force_edgecolor\"] = True\n",
    "\n",
    "fig1=plt.figure(1)\n",
    "plt.subplot(111)\n",
    "plt.hist(profiles.signcode.dropna(), bins=np.arange(14)-0.5, alpha=0.75, rwidth=0.5)\n",
    "plt.xlabel('Months of birth/Zodiac signs')\n",
    "plt.ylabel('counts')\n",
    "plt.xticks(range(13))\n",
    "plt.xlim(0,13)\n",
    "fig1.savefig('zodiac_months.png')\n",
    "\n",
    "fig2=plt.figure(2)\n",
    "plt.subplot(111)\n",
    "plt.hist(profiles.signcode_w.dropna(), bins=np.arange(6)-0.5, alpha=0.75, rwidth=0.8)\n",
    "plt.xlabel('interested in Zodiac signs')\n",
    "plt.ylabel('counts')\n",
    "plt.xticks(range(4))\n",
    "plt.xlim(-1,4)\n",
    "fig2.savefig('zodiac_interests.png')\n",
    "\n",
    "plt.show()\n"
   ]
  },
  {
   "cell_type": "code",
   "execution_count": 19,
   "metadata": {},
   "outputs": [],
   "source": [
    "profiles.smokes.value_counts()\n",
    "smokes_mapping={\n",
    "    'no':0,\n",
    "    'trying to quit':1,\n",
    "    'sometimes':2,\n",
    "    'when drinking':3,\n",
    "    'yes':4\n",
    "}\n",
    "profiles['smokescode']=profiles.smokes.map(smokes_mapping)"
   ]
  },
  {
   "cell_type": "code",
   "execution_count": 20,
   "metadata": {},
   "outputs": [
    {
     "data": {
      "text/plain": [
       "single            55697\n",
       "seeing someone     2064\n",
       "available          1865\n",
       "married             310\n",
       "unknown              10\n",
       "Name: status, dtype: int64"
      ]
     },
     "execution_count": 20,
     "metadata": {},
     "output_type": "execute_result"
    }
   ],
   "source": [
    "profiles.status.value_counts()"
   ]
  },
  {
   "cell_type": "markdown",
   "metadata": {},
   "source": [
    "<h1>Create mappings</h1>"
   ]
  },
  {
   "cell_type": "markdown",
   "metadata": {},
   "source": [
    "<h2>Map location</h2>"
   ]
  },
  {
   "cell_type": "code",
   "execution_count": 21,
   "metadata": {},
   "outputs": [
    {
     "data": {
      "text/plain": [
       "'\\n#I ran this just first time and then I saved the data in CSV (It was translated within the $300 limit of the geolocation API ;-)\\nloc = profiles.location\\nlonlat = pd.DataFrame(columns={\\'lat\\',\\'lng\\'})\\nfor x in loc:\\n    maps_req = req.get(\"https://maps.google.com/maps/api/geocode/json?key=###myGeolocationAPIKey###&address=\"+x)\\n    maps=maps_req.json()\\n    coordinates=maps[\\'results\\'][0][\\'geometry\\'][\\'location\\']\\n    coordinates = pd.DataFrame([coordinates], columns=coordinates.keys())\\n    lonlat = lonlat.append([coordinates], ignore_index=True)\\n'"
      ]
     },
     "execution_count": 21,
     "metadata": {},
     "output_type": "execute_result"
    }
   ],
   "source": [
    "'''\n",
    "#I ran this just first time and then I saved the data in CSV (It was translated within the $300 limit of the geolocation API ;-)\n",
    "loc = profiles.location\n",
    "lonlat = pd.DataFrame(columns={'lat','lng'})\n",
    "for x in loc:\n",
    "    maps_req = req.get(\"https://maps.google.com/maps/api/geocode/json?key=###myGeolocationAPIKey###&address=\"+x)\n",
    "    maps=maps_req.json()\n",
    "    coordinates=maps['results'][0]['geometry']['location']\n",
    "    coordinates = pd.DataFrame([coordinates], columns=coordinates.keys())\n",
    "    lonlat = lonlat.append([coordinates], ignore_index=True)\n",
    "'''"
   ]
  },
  {
   "cell_type": "code",
   "execution_count": 22,
   "metadata": {},
   "outputs": [
    {
     "data": {
      "text/plain": [
       "'\\nfrom mpl_toolkits.basemap import Basemap\\nm = Basemap(projection=\\'mill\\',llcrnrlat=-60,urcrnrlat=90, llcrnrlon=-180,urcrnrlon=180,resolution=\\'c\\')\\nm.drawcoastlines()\\nm.fillcontinents(color=\\'#AAAAAA\\',lake_color=\\'#FFFFFF\\')\\n\\nm.drawmapboundary(fill_color=\\'#FFFFFF\\')\\nplt.title(\"Locations of OKCupid members\")\\n\\nx1, y1 = m(profiles[\\'lon\\'].values.tolist(),profiles[\\'lat\\'].values.tolist())\\nm.scatter(x1, y1, zorder=100, color=\\'red\\')\\n\\nplt.savefig(\\'Location_of_members.png\\')\\n\\nplt.show()\\n'"
      ]
     },
     "execution_count": 22,
     "metadata": {},
     "output_type": "execute_result"
    }
   ],
   "source": [
    "lonlat = pd.read_csv(\"lonlat.csv\")\n",
    "profiles['lon']=lonlat.values[:, 0]\n",
    "profiles['lat']=lonlat.values[:, 1]\n",
    "'''\n",
    "from mpl_toolkits.basemap import Basemap\n",
    "m = Basemap(projection='mill',llcrnrlat=-60,urcrnrlat=90, llcrnrlon=-180,urcrnrlon=180,resolution='c')\n",
    "m.drawcoastlines()\n",
    "m.fillcontinents(color='#AAAAAA',lake_color='#FFFFFF')\n",
    "\n",
    "m.drawmapboundary(fill_color='#FFFFFF')\n",
    "plt.title(\"Locations of OKCupid members\")\n",
    "\n",
    "x1, y1 = m(profiles['lon'].values.tolist(),profiles['lat'].values.tolist())\n",
    "m.scatter(x1, y1, zorder=100, color='red')\n",
    "\n",
    "plt.savefig('Location_of_members.png')\n",
    "\n",
    "plt.show()\n",
    "'''"
   ]
  },
  {
   "cell_type": "code",
   "execution_count": 23,
   "metadata": {},
   "outputs": [
    {
     "data": {
      "text/plain": [
       "False    34514\n",
       "True     25432\n",
       "Name: east_of_great_plains, dtype: int64"
      ]
     },
     "execution_count": 23,
     "metadata": {},
     "output_type": "execute_result"
    }
   ],
   "source": [
    "profiles['east_of_great_plains']=profiles['lon'].apply(lambda x: x > -122.419)\n",
    "profiles['east_of_great_plains'].value_counts()\n",
    "\n",
    "#print(profiles['lon'].mean())"
   ]
  },
  {
   "cell_type": "code",
   "execution_count": 94,
   "metadata": {},
   "outputs": [
    {
     "data": {
      "text/plain": [
       "0    about me:<br />\\n<br />\\ni would love to think...\n",
       "1    i am a chef: this is what that means.<br />\\n1...\n",
       "2    i'm not ashamed of much, but writing public te...\n",
       "3    i work in a library and go to school. . . read...\n",
       "4    hey how's it going? currently vague on the pro...\n",
       "Name: all_essays, dtype: object"
      ]
     },
     "execution_count": 94,
     "metadata": {},
     "output_type": "execute_result"
    }
   ],
   "source": [
    "essay_cols = [\"essay0\",\"essay1\",\"essay2\",\"essay3\",\"essay4\",\"essay5\",\"essay6\",\"essay7\",\"essay8\",\"essay9\"]\n",
    "\n",
    "all_essays = profiles[essay_cols].replace(np.nan, '', regex=True)\n",
    "\n",
    "all_essays = all_essays[essay_cols].apply(lambda x: ' '.join(x), axis=1)\n",
    "\n",
    "profiles['all_essays']=all_essays\n",
    "\n",
    "profiles[\"essay_len\"] = all_essays.apply(lambda x: len(x))\n",
    "\n",
    "essay_cols.append('essay_len')\n",
    "\n",
    "profiles['all_essays'].head()\n"
   ]
  },
  {
   "cell_type": "markdown",
   "metadata": {},
   "source": [
    "<H1>Normalize</H1>"
   ]
  },
  {
   "cell_type": "code",
   "execution_count": 99,
   "metadata": {},
   "outputs": [
    {
     "data": {
      "text/html": [
       "<div>\n",
       "<style scoped>\n",
       "    .dataframe tbody tr th:only-of-type {\n",
       "        vertical-align: middle;\n",
       "    }\n",
       "\n",
       "    .dataframe tbody tr th {\n",
       "        vertical-align: top;\n",
       "    }\n",
       "\n",
       "    .dataframe thead th {\n",
       "        text-align: right;\n",
       "    }\n",
       "</style>\n",
       "<table border=\"1\" class=\"dataframe\">\n",
       "  <thead>\n",
       "    <tr style=\"text-align: right;\">\n",
       "      <th></th>\n",
       "      <th>smokescode</th>\n",
       "      <th>drugscode</th>\n",
       "      <th>essay_len</th>\n",
       "      <th>signcode</th>\n",
       "      <th>signcode_w</th>\n",
       "      <th>height</th>\n",
       "      <th>income</th>\n",
       "    </tr>\n",
       "  </thead>\n",
       "  <tbody>\n",
       "    <tr>\n",
       "      <th>0</th>\n",
       "      <td>0.5</td>\n",
       "      <td>0.333333</td>\n",
       "      <td>0.027372</td>\n",
       "      <td>0.363636</td>\n",
       "      <td>0.333333</td>\n",
       "      <td>0.787234</td>\n",
       "      <td>0.000000</td>\n",
       "    </tr>\n",
       "    <tr>\n",
       "      <th>1</th>\n",
       "      <td>0.0</td>\n",
       "      <td>0.666667</td>\n",
       "      <td>0.015000</td>\n",
       "      <td>0.454545</td>\n",
       "      <td>0.333333</td>\n",
       "      <td>0.734043</td>\n",
       "      <td>0.080001</td>\n",
       "    </tr>\n",
       "    <tr>\n",
       "      <th>2</th>\n",
       "      <td>0.0</td>\n",
       "      <td>0.000000</td>\n",
       "      <td>0.057215</td>\n",
       "      <td>0.090909</td>\n",
       "      <td>0.000000</td>\n",
       "      <td>0.712766</td>\n",
       "      <td>0.000000</td>\n",
       "    </tr>\n",
       "  </tbody>\n",
       "</table>\n",
       "</div>"
      ],
      "text/plain": [
       "   smokescode  drugscode  essay_len  signcode  signcode_w    height    income\n",
       "0         0.5   0.333333   0.027372  0.363636    0.333333  0.787234  0.000000\n",
       "1         0.0   0.666667   0.015000  0.454545    0.333333  0.734043  0.080001\n",
       "2         0.0   0.000000   0.057215  0.090909    0.000000  0.712766  0.000000"
      ]
     },
     "execution_count": 99,
     "metadata": {},
     "output_type": "execute_result"
    }
   ],
   "source": [
    "import sklearn.preprocessing as pre\n",
    "feature_data_prescaled = profiles[['smokescode', 'drugscode', 'essay_len', 'signcode', 'signcode_w', 'height', 'income']].dropna()\n",
    "\n",
    "\n",
    "x = feature_data_prescaled.values\n",
    "min_max_scaler = pre.MinMaxScaler()\n",
    "x_scaled = min_max_scaler.fit_transform(x)\n",
    "\n",
    "feature_data = pd.DataFrame(x_scaled, columns=feature_data_prescaled.columns)\n",
    "feature_data.head(3)\n"
   ]
  },
  {
   "cell_type": "markdown",
   "metadata": {},
   "source": [
    "<h1>Classification</h1>"
   ]
  },
  {
   "cell_type": "code",
   "execution_count": 101,
   "metadata": {
    "scrolled": true
   },
   "outputs": [
    {
     "ename": "ValueError",
     "evalue": "could not convert string to float: 'none of my pics reflect my eyes anymore .. need to update\\nsoon<br />\\n\\'ve become a new person again .. email me if you frequently do too\\n:)<br />\\n<br />\\nold profile:<br />\\ni a small cross section of the universe experiencing and observing\\nitself subjectively. no eye can see itself, no thing can experience\\nitself all at once unless we realize the nature of what we really\\nare and focus on the mirror behind the illusion (or go further and\\nrealize there is no mirror or illusion)<br />\\n<br />\\nbut that pretty much applies to anyone who chooses to entertain\\nsimilar reality-tunnels as mine.<br />\\n<br />\\n\"i\" am also..<br />\\n<br />\\nnomadic transient wannabe-eurotrash fag. promiscuous, androgynous,\\nof dubious sexuality. painter, artist, writer, musician. urban\\nbodhisattva. cassadyan conman. i\\'m not vegan but i eat like one.\\nliving la vie boheme. devotee of the dionysian. novelty whore and\\ninspiration junkie<br />\\n<br />\\ni am a devout servant to catalyzing evolution, realizing and\\nhelping others realize the full potential of their mind in order to\\nbenefit the most beings as quickly and efficiently as\\npossible.<br />\\n<br />\\ni am also totally full of shit.<br />\\n<br />\\nthe best way i can think of answering this prompt is to ask \"who is\\nthe one who is living me now?\"<br />\\n<br />\\ni am an artist, a man, and a failure enjoying it (and learning a lot). hoping to fall in love. creating\\nart. trying to bring as much joy benefit and chaos to all beings as\\ni can. trying to live sustainably and leave everything i interact\\nwith untouched or improved. certainly not working for the man.\\nfiending for cock. traveling around the world exploring foreign\\ncultures, communing with nature, learning languages, meeting\\nawesome people, squatting in dirty basements and sleeping in parks.\\ni want to spend little chunks of time (6 mos - 2 yrs) living in\\nvarious places that interest me, such as the pacific northwest,\\nparis, berlin, tokyo, india, anywhere in southeast asia/pacific\\nislands, ethiopia, prague, tallinn, switzerland...you know i\\'ve\\nalready got a year in germany, 3 months in peru, and 4+ in the bay\\narea, as well as vacationing.. i paint, and play guitar, and read\\nand write a lot. i meditate, do t\\'ai chi, go to protests, engage in\\nactivism and try to think of alternatives to protesting that\\nactually work. one thing i do with a very vast portion of my life\\nis sleep. another thing i do a lot is dream. i enjoy fetish events\\nthat involve queer people from all kinds of genders and sexualities\\ndressed in adorable pvc and fishnets tying one another up and\\nflogging each other :)  my tits and ass a) bear v. shark - chris bachelder, tropic of cancer - henry\\nmiller, naked lunch - william s burroughs, taz - hakim bey,\\nprometheus rising - robert anton wilson, shower of gold - donald\\nbarthelme, to kill a child - stig dagerman, waiting for godot -\\nsamuel beckett, lot\\'s of stuff by tom robbins, e.e. cummings, allen\\nginsberg, franz kafka..<br />\\n<br />\\nb) <a class=\"ilink\" href=\\n\"/interests?i=wir+kinder+vom+bahnhof+zoo\">wir kinder vom bahnhof\\nzoo</a>, kids, fear and loathing in las vegas, all things johnny\\ndepp really, requiem for a dream, pi, memento, american beauty,\\nmonty python\\'s meaning of life, spirited away, irreversible, a\\nscanner darkly,<br />\\n<br />\\nc) coil, merzbow, maenad, tool, a perfect circle, nine inch nails,\\nsun ra, john coltrane, frank zappa, captain beefheart, skerik,\\naphex twin, alva.noto, modest mouse, bright eyes<br />\\n<br />\\nd) falafel, hummus, samosas, eggplant, curry, um, pretty much\\nanything mexican, middle eastern, persian, indian, east\\nasian...love sushi, avocado, olives, baguettes, oil infused with\\nherbs, fine wine, anything hemp *) top<br />\\n<br />\\n*) bottom<br />\\n<br />\\n*) front<br />\\n<br />\\n*) back<br />\\n<br />\\n*) left<br />\\n<br />\\n*) right where we come from, what we are, and where we are going.<br />\\n<br />\\nlearning and entertainment.<br />\\n<br />\\nmetaprogramming.<br />\\n<br />\\napplying oil paints to canvas.<br />\\n<br />\\n2,4,5-ring substitution patterns.<br />\\n<br />\\nparadoxes, infinity, synchronicities, hyperdimensional\\nrealms..<br />\\n<br />\\npeople, society, relationships..<br />\\n<br />\\nfashion&amp;eyeliner;<br />\\n<br />\\ng protein-coupled receptors<br />\\n<br />\\nlinguistics and language.<br />\\n<br />\\nbiochemistry, ontology/theology/spirituality/philosophy, activism\\n(environmental, social, civil, sometimes political).<br />\\n<br />\\nthe fact that most modern spell-checking programs don\\'t recognize\\nmany of the most important words i use.<br />\\n<br />\\nhow to best remove the ignorance and obscuration which cloud the\\nminds of most beings. apparently this particular friday night<br />\\n<br />\\ni\\'m sitting at home on okcupid<br />\\n<br />\\ntrying to figure out what people who are like me<br />\\n<br />\\nand/or people i want to be with<br />\\n<br />\\ndo on a typical friday night<br />\\n<br />\\nwanna hang out? i confess i continue to be completely boggled by this box...<br />\\n<br />\\n(tell me who you are and i\\'ll tell you anything you want to know) that\\'s how it\\'s gonna go down'",
     "output_type": "error",
     "traceback": [
      "\u001b[1;31m---------------------------------------------------------------------------\u001b[0m",
      "\u001b[1;31mValueError\u001b[0m                                Traceback (most recent call last)",
      "\u001b[1;32m<timed exec>\u001b[0m in \u001b[0;36m<module>\u001b[1;34m\u001b[0m\n",
      "\u001b[1;32m~\\Miniconda3\\lib\\site-packages\\sklearn\\naive_bayes.py\u001b[0m in \u001b[0;36mfit\u001b[1;34m(self, X, y, sample_weight)\u001b[0m\n\u001b[0;32m    583\u001b[0m         \u001b[0mself\u001b[0m \u001b[1;33m:\u001b[0m \u001b[0mobject\u001b[0m\u001b[1;33m\u001b[0m\u001b[0m\n\u001b[0;32m    584\u001b[0m         \"\"\"\n\u001b[1;32m--> 585\u001b[1;33m         \u001b[0mX\u001b[0m\u001b[1;33m,\u001b[0m \u001b[0my\u001b[0m \u001b[1;33m=\u001b[0m \u001b[0mcheck_X_y\u001b[0m\u001b[1;33m(\u001b[0m\u001b[0mX\u001b[0m\u001b[1;33m,\u001b[0m \u001b[0my\u001b[0m\u001b[1;33m,\u001b[0m \u001b[1;34m'csr'\u001b[0m\u001b[1;33m)\u001b[0m\u001b[1;33m\u001b[0m\u001b[0m\n\u001b[0m\u001b[0;32m    586\u001b[0m         \u001b[0m_\u001b[0m\u001b[1;33m,\u001b[0m \u001b[0mn_features\u001b[0m \u001b[1;33m=\u001b[0m \u001b[0mX\u001b[0m\u001b[1;33m.\u001b[0m\u001b[0mshape\u001b[0m\u001b[1;33m\u001b[0m\u001b[0m\n\u001b[0;32m    587\u001b[0m \u001b[1;33m\u001b[0m\u001b[0m\n",
      "\u001b[1;32m~\\Miniconda3\\lib\\site-packages\\sklearn\\utils\\validation.py\u001b[0m in \u001b[0;36mcheck_X_y\u001b[1;34m(X, y, accept_sparse, accept_large_sparse, dtype, order, copy, force_all_finite, ensure_2d, allow_nd, multi_output, ensure_min_samples, ensure_min_features, y_numeric, warn_on_dtype, estimator)\u001b[0m\n\u001b[0;32m    754\u001b[0m                     \u001b[0mensure_min_features\u001b[0m\u001b[1;33m=\u001b[0m\u001b[0mensure_min_features\u001b[0m\u001b[1;33m,\u001b[0m\u001b[1;33m\u001b[0m\u001b[0m\n\u001b[0;32m    755\u001b[0m                     \u001b[0mwarn_on_dtype\u001b[0m\u001b[1;33m=\u001b[0m\u001b[0mwarn_on_dtype\u001b[0m\u001b[1;33m,\u001b[0m\u001b[1;33m\u001b[0m\u001b[0m\n\u001b[1;32m--> 756\u001b[1;33m                     estimator=estimator)\n\u001b[0m\u001b[0;32m    757\u001b[0m     \u001b[1;32mif\u001b[0m \u001b[0mmulti_output\u001b[0m\u001b[1;33m:\u001b[0m\u001b[1;33m\u001b[0m\u001b[0m\n\u001b[0;32m    758\u001b[0m         y = check_array(y, 'csr', force_all_finite=True, ensure_2d=False,\n",
      "\u001b[1;32m~\\Miniconda3\\lib\\site-packages\\sklearn\\utils\\validation.py\u001b[0m in \u001b[0;36mcheck_array\u001b[1;34m(array, accept_sparse, accept_large_sparse, dtype, order, copy, force_all_finite, ensure_2d, allow_nd, ensure_min_samples, ensure_min_features, warn_on_dtype, estimator)\u001b[0m\n\u001b[0;32m    525\u001b[0m             \u001b[1;32mtry\u001b[0m\u001b[1;33m:\u001b[0m\u001b[1;33m\u001b[0m\u001b[0m\n\u001b[0;32m    526\u001b[0m                 \u001b[0mwarnings\u001b[0m\u001b[1;33m.\u001b[0m\u001b[0msimplefilter\u001b[0m\u001b[1;33m(\u001b[0m\u001b[1;34m'error'\u001b[0m\u001b[1;33m,\u001b[0m \u001b[0mComplexWarning\u001b[0m\u001b[1;33m)\u001b[0m\u001b[1;33m\u001b[0m\u001b[0m\n\u001b[1;32m--> 527\u001b[1;33m                 \u001b[0marray\u001b[0m \u001b[1;33m=\u001b[0m \u001b[0mnp\u001b[0m\u001b[1;33m.\u001b[0m\u001b[0masarray\u001b[0m\u001b[1;33m(\u001b[0m\u001b[0marray\u001b[0m\u001b[1;33m,\u001b[0m \u001b[0mdtype\u001b[0m\u001b[1;33m=\u001b[0m\u001b[0mdtype\u001b[0m\u001b[1;33m,\u001b[0m \u001b[0morder\u001b[0m\u001b[1;33m=\u001b[0m\u001b[0morder\u001b[0m\u001b[1;33m)\u001b[0m\u001b[1;33m\u001b[0m\u001b[0m\n\u001b[0m\u001b[0;32m    528\u001b[0m             \u001b[1;32mexcept\u001b[0m \u001b[0mComplexWarning\u001b[0m\u001b[1;33m:\u001b[0m\u001b[1;33m\u001b[0m\u001b[0m\n\u001b[0;32m    529\u001b[0m                 raise ValueError(\"Complex data not supported\\n\"\n",
      "\u001b[1;32m~\\Miniconda3\\lib\\site-packages\\numpy\\core\\numeric.py\u001b[0m in \u001b[0;36masarray\u001b[1;34m(a, dtype, order)\u001b[0m\n\u001b[0;32m    499\u001b[0m \u001b[1;33m\u001b[0m\u001b[0m\n\u001b[0;32m    500\u001b[0m     \"\"\"\n\u001b[1;32m--> 501\u001b[1;33m     \u001b[1;32mreturn\u001b[0m \u001b[0marray\u001b[0m\u001b[1;33m(\u001b[0m\u001b[0ma\u001b[0m\u001b[1;33m,\u001b[0m \u001b[0mdtype\u001b[0m\u001b[1;33m,\u001b[0m \u001b[0mcopy\u001b[0m\u001b[1;33m=\u001b[0m\u001b[1;32mFalse\u001b[0m\u001b[1;33m,\u001b[0m \u001b[0morder\u001b[0m\u001b[1;33m=\u001b[0m\u001b[0morder\u001b[0m\u001b[1;33m)\u001b[0m\u001b[1;33m\u001b[0m\u001b[0m\n\u001b[0m\u001b[0;32m    502\u001b[0m \u001b[1;33m\u001b[0m\u001b[0m\n\u001b[0;32m    503\u001b[0m \u001b[1;33m\u001b[0m\u001b[0m\n",
      "\u001b[1;31mValueError\u001b[0m: could not convert string to float: 'none of my pics reflect my eyes anymore .. need to update\\nsoon<br />\\n\\'ve become a new person again .. email me if you frequently do too\\n:)<br />\\n<br />\\nold profile:<br />\\ni a small cross section of the universe experiencing and observing\\nitself subjectively. no eye can see itself, no thing can experience\\nitself all at once unless we realize the nature of what we really\\nare and focus on the mirror behind the illusion (or go further and\\nrealize there is no mirror or illusion)<br />\\n<br />\\nbut that pretty much applies to anyone who chooses to entertain\\nsimilar reality-tunnels as mine.<br />\\n<br />\\n\"i\" am also..<br />\\n<br />\\nnomadic transient wannabe-eurotrash fag. promiscuous, androgynous,\\nof dubious sexuality. painter, artist, writer, musician. urban\\nbodhisattva. cassadyan conman. i\\'m not vegan but i eat like one.\\nliving la vie boheme. devotee of the dionysian. novelty whore and\\ninspiration junkie<br />\\n<br />\\ni am a devout servant to catalyzing evolution, realizing and\\nhelping others realize the full potential of their mind in order to\\nbenefit the most beings as quickly and efficiently as\\npossible.<br />\\n<br />\\ni am also totally full of shit.<br />\\n<br />\\nthe best way i can think of answering this prompt is to ask \"who is\\nthe one who is living me now?\"<br />\\n<br />\\ni am an artist, a man, and a failure enjoying it (and learning a lot). hoping to fall in love. creating\\nart. trying to bring as much joy benefit and chaos to all beings as\\ni can. trying to live sustainably and leave everything i interact\\nwith untouched or improved. certainly not working for the man.\\nfiending for cock. traveling around the world exploring foreign\\ncultures, communing with nature, learning languages, meeting\\nawesome people, squatting in dirty basements and sleeping in parks.\\ni want to spend little chunks of time (6 mos - 2 yrs) living in\\nvarious places that interest me, such as the pacific northwest,\\nparis, berlin, tokyo, india, anywhere in southeast asia/pacific\\nislands, ethiopia, prague, tallinn, switzerland...you know i\\'ve\\nalready got a year in germany, 3 months in peru, and 4+ in the bay\\narea, as well as vacationing.. i paint, and play guitar, and read\\nand write a lot. i meditate, do t\\'ai chi, go to protests, engage in\\nactivism and try to think of alternatives to protesting that\\nactually work. one thing i do with a very vast portion of my life\\nis sleep. another thing i do a lot is dream. i enjoy fetish events\\nthat involve queer people from all kinds of genders and sexualities\\ndressed in adorable pvc and fishnets tying one another up and\\nflogging each other :)  my tits and ass a) bear v. shark - chris bachelder, tropic of cancer - henry\\nmiller, naked lunch - william s burroughs, taz - hakim bey,\\nprometheus rising - robert anton wilson, shower of gold - donald\\nbarthelme, to kill a child - stig dagerman, waiting for godot -\\nsamuel beckett, lot\\'s of stuff by tom robbins, e.e. cummings, allen\\nginsberg, franz kafka..<br />\\n<br />\\nb) <a class=\"ilink\" href=\\n\"/interests?i=wir+kinder+vom+bahnhof+zoo\">wir kinder vom bahnhof\\nzoo</a>, kids, fear and loathing in las vegas, all things johnny\\ndepp really, requiem for a dream, pi, memento, american beauty,\\nmonty python\\'s meaning of life, spirited away, irreversible, a\\nscanner darkly,<br />\\n<br />\\nc) coil, merzbow, maenad, tool, a perfect circle, nine inch nails,\\nsun ra, john coltrane, frank zappa, captain beefheart, skerik,\\naphex twin, alva.noto, modest mouse, bright eyes<br />\\n<br />\\nd) falafel, hummus, samosas, eggplant, curry, um, pretty much\\nanything mexican, middle eastern, persian, indian, east\\nasian...love sushi, avocado, olives, baguettes, oil infused with\\nherbs, fine wine, anything hemp *) top<br />\\n<br />\\n*) bottom<br />\\n<br />\\n*) front<br />\\n<br />\\n*) back<br />\\n<br />\\n*) left<br />\\n<br />\\n*) right where we come from, what we are, and where we are going.<br />\\n<br />\\nlearning and entertainment.<br />\\n<br />\\nmetaprogramming.<br />\\n<br />\\napplying oil paints to canvas.<br />\\n<br />\\n2,4,5-ring substitution patterns.<br />\\n<br />\\nparadoxes, infinity, synchronicities, hyperdimensional\\nrealms..<br />\\n<br />\\npeople, society, relationships..<br />\\n<br />\\nfashion&amp;eyeliner;<br />\\n<br />\\ng protein-coupled receptors<br />\\n<br />\\nlinguistics and language.<br />\\n<br />\\nbiochemistry, ontology/theology/spirituality/philosophy, activism\\n(environmental, social, civil, sometimes political).<br />\\n<br />\\nthe fact that most modern spell-checking programs don\\'t recognize\\nmany of the most important words i use.<br />\\n<br />\\nhow to best remove the ignorance and obscuration which cloud the\\nminds of most beings. apparently this particular friday night<br />\\n<br />\\ni\\'m sitting at home on okcupid<br />\\n<br />\\ntrying to figure out what people who are like me<br />\\n<br />\\nand/or people i want to be with<br />\\n<br />\\ndo on a typical friday night<br />\\n<br />\\nwanna hang out? i confess i continue to be completely boggled by this box...<br />\\n<br />\\n(tell me who you are and i\\'ll tell you anything you want to know) that\\'s how it\\'s gonna go down'"
     ]
    }
   ],
   "source": [
    "%%time\n",
    "profiles_explore=profiles[['all_essays', 'signcode']].dropna()\n",
    "\n",
    "train_data, test_data, train_labels, test_labels = \\\n",
    "                            train_test_split(profiles_explore['all_essays'], \\\n",
    "                            profiles_explore['signcode'], test_size=0.2, random_state=1)\n",
    "\n",
    "\n",
    "counter = CountVectorizer()\n",
    "counter.fit(profiles_explore['all_essays'])\n",
    "\n",
    "train_counts = counter.transform(train_data)\n",
    "test_counts = counter.transform(test_data)\n",
    "\n",
    "classifier = MultinomialNB()\n",
    "classifier.fit(train_data, train_labels)\n",
    "predictions = classifier.predict(test_data)\n",
    "\n",
    "print(accuracy_score(test_labels, predictions))\n",
    "print(recall_score(test_labels, predictions, average='micro'))\n",
    "print(precision_score(test_labels, predictions, average='micro'))\n",
    "print(f1_score(test_labels, predictions, average='micro'))\n",
    "%time\n",
    "\n"
   ]
  },
  {
   "cell_type": "code",
   "execution_count": 88,
   "metadata": {},
   "outputs": [
    {
     "name": "stdout",
     "output_type": "stream",
     "text": [
      "0.800128593735648\n",
      "Wall time: 0 ns\n",
      "Wall time: 47 ms\n"
     ]
    }
   ],
   "source": [
    "%%time\n",
    "feature_data_prescaled = \\\n",
    "    profiles[['smokescode', 'drugscode', 'essay_len', 'height', 'income']].dropna()\n",
    "\n",
    "x = feature_data_prescaled.values\n",
    "min_max_scaler = pre.MinMaxScaler()\n",
    "x_scaled = min_max_scaler.fit_transform(x)\n",
    "\n",
    "feature_data = pd.DataFrame(x_scaled, columns=feature_data_prescaled.columns)\n",
    "\n",
    "train_data, test_data, train_labels, test_labels = \\\n",
    "    train_test_split(feature_data[['drugscode', 'smokescode', 'essay_len', 'height']], \\\n",
    "    feature_data_prescaled['income'], test_size=0.2, random_state=1)\n",
    "    \n",
    "classifier = MultinomialNB()\n",
    "classifier.fit(train_data, train_labels)\n",
    "predictions = classifier.predict(test_data)\n",
    "\n",
    "#print(accuracy_score(test_labels, predictions))\n",
    "#print(recall_score(test_labels, predictions, average='micro'))\n",
    "#print(precision_score(test_labels, predictions, average='micro'))\n",
    "print(f1_score(test_labels, predictions, average='micro'))\n",
    "%time"
   ]
  },
  {
   "cell_type": "code",
   "execution_count": 188,
   "metadata": {},
   "outputs": [
    {
     "name": "stdout",
     "output_type": "stream",
     "text": [
      "0.0067885064686815655\n",
      "Wall time: 0 ns\n",
      "Wall time: 46 ms\n"
     ]
    }
   ],
   "source": [
    "%%time\n",
    "from sklearn.metrics import r2_score\n",
    "\n",
    "feature_data_prescaled = \\\n",
    "    profiles[['smokescode', 'drugscode', 'essay_len', 'signcode', 'signcode_w', 'height', 'income', 'lat', 'lon']].dropna()\n",
    "\n",
    "x = feature_data_prescaled.values\n",
    "min_max_scaler = pre.MinMaxScaler()\n",
    "x_scaled = min_max_scaler.fit_transform(x)\n",
    "\n",
    "feature_data = pd.DataFrame(x_scaled, columns=feature_data_prescaled.columns)\n",
    "\n",
    "train_data, test_data, train_labels, test_labels = \\\n",
    "    train_test_split(feature_data[['smokescode', 'drugscode', 'signcode', 'signcode_w', 'height', 'income', 'lat', 'lon']], \\\n",
    "    feature_data['essay_len'], test_size=0.2, random_state=1)\n",
    "    \n",
    "regression = linear_model.LinearRegression()\n",
    "regression.fit(train_data, train_labels)\n",
    "predictions = regression.predict(test_data)\n",
    "\n",
    "print(r2_score(test_labels, predictions))\n",
    "%time"
   ]
  },
  {
   "cell_type": "code",
   "execution_count": 185,
   "metadata": {},
   "outputs": [
    {
     "data": {
      "image/png": "[encoded data removed]",
      "text/plain": [
       "<Figure size 432x288 with 1 Axes>"
      ]
     },
     "metadata": {
      "needs_background": "light"
     },
     "output_type": "display_data"
    }
   ],
   "source": [
    "plt.hist(profiles.income, bins=30)\n",
    "plt.ylabel('number of members')\n",
    "plt.xlabel('yearly of income')\n",
    "plt.show()"
   ]
  },
  {
   "cell_type": "code",
   "execution_count": null,
   "metadata": {},
   "outputs": [],
   "source": []
  },
  {
   "cell_type": "code",
   "execution_count": null,
   "metadata": {},
   "outputs": [],
   "source": []
  }
 ],
 "metadata": {
  "kernelspec": {
   "display_name": "Python 3",
   "language": "python",
   "name": "python3"
  },
  "language_info": {
   "codemirror_mode": {
    "name": "ipython",
    "version": 3
   },
   "file_extension": ".py",
   "mimetype": "text/x-python",
   "name": "python",
   "nbconvert_exporter": "python",
   "pygments_lexer": "ipython3",
   "version": "3.7.0"
  }
 },
 "nbformat": 4,
 "nbformat_minor": 2
}
